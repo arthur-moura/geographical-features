{
 "cells": [
  {
   "cell_type": "code",
   "execution_count": 25,
   "metadata": {},
   "outputs": [],
   "source": [
    "import numpy as np\n",
    "import pandas as pd"
   ]
  },
  {
   "cell_type": "code",
   "execution_count": 20,
   "metadata": {},
   "outputs": [],
   "source": [
    "def isTouristicCity(citycode, cluster):\n",
    "    '''\n",
    "    Receives IBGE citycode (7 digits) and returns wheter it appears in a given cluster\n",
    "    '''\n",
    "    \n",
    "    df = pd.read_csv('https://raw.githubusercontent.com/arthur-moura/geographical-features/master/MinisterioTurismo/RELATORIO_CATEGORIZACAO_2019-Portal.csv'\n",
    "                     , sep=';', thousands='.', decimal=',')\n",
    "    target = df[df['CLUSTER'].isin(list(cluster))]['COD_IBGE'].to_list()\n",
    "    if citycode in target:\n",
    "        return 1\n",
    "    else:\n",
    "        return 0"
   ]
  },
  {
   "cell_type": "code",
   "execution_count": 64,
   "metadata": {},
   "outputs": [],
   "source": [
    "def isHighGrowthCity(citycode, growth):\n",
    "    '''\n",
    "    Receives IBGE citycode (7 digits) and returns wheter the city has grown above the `growth` threshold\n",
    "    '''\n",
    "    \n",
    "    df = pd.read_csv('https://raw.githubusercontent.com/arthur-moura/geographical-features/master/IBGE/Brazil_Population_CAGR_2015-2019.csv'\n",
    "                     , sep=';', thousands='.', decimal=',')\n",
    "    df['CAGR'] = df['CAGR'].str.rstrip('%').str.replace(',','.').astype('float')/100\n",
    "    target = df[df['CAGR']>=growth]['COD. COMPLETO'].to_list()\n",
    "    if citycode in target:\n",
    "        return 1\n",
    "    else:\n",
    "        return 0"
   ]
  },
  {
   "cell_type": "code",
   "execution_count": 65,
   "metadata": {},
   "outputs": [],
   "source": [
    "def isHighShrinkageCity(citycode, shrinkage):\n",
    "    '''\n",
    "    Receives IBGE citycode (7 digits) and returns wheter the city has shrunk below the `shrinkage` threshold\n",
    "    '''\n",
    "    \n",
    "    df = pd.read_csv('https://raw.githubusercontent.com/arthur-moura/geographical-features/master/IBGE/Brazil_Population_CAGR_2015-2019.csv'\n",
    "                     , sep=';', thousands='.', decimal=',')\n",
    "    df['CAGR'] = df['CAGR'].str.rstrip('%').str.replace(',','.').astype('float')/100\n",
    "    target = df[df['CAGR']<=shrinkage]['COD. COMPLETO'].to_list()\n",
    "    if citycode in target:\n",
    "        return 1\n",
    "    else:\n",
    "        return 0"
   ]
  }
 ],
 "metadata": {
  "kernelspec": {
   "display_name": "Python 3",
   "language": "python",
   "name": "python3"
  },
  "language_info": {
   "codemirror_mode": {
    "name": "ipython",
    "version": 3
   },
   "file_extension": ".py",
   "mimetype": "text/x-python",
   "name": "python",
   "nbconvert_exporter": "python",
   "pygments_lexer": "ipython3",
   "version": "3.7.6"
  }
 },
 "nbformat": 4,
 "nbformat_minor": 4
}
